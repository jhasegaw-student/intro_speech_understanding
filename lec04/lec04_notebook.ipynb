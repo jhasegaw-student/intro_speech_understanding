{
 "cells": [
  {
   "cell_type": "markdown",
   "id": "6a424b44",
   "metadata": {},
   "source": [
    "# Speech Understanding \n",
    "# Lecture 4: Dictionaries and Tuples"
   ]
  },
  {
   "cell_type": "markdown",
   "id": "b3983e7c",
   "metadata": {},
   "source": [
    "### Mark Hasegawa-Johnson, KCGI"
   ]
  },
  {
   "cell_type": "markdown",
   "id": "ffa13a99",
   "metadata": {},
   "source": [
    "In this lecture, you will learn about dictionaries and functions.\n"
   ]
  },
  {
   "cell_type": "markdown",
   "id": "a638dcac",
   "metadata": {},
   "source": [
    "\n",
    "1. [Dictionaries](#section1)\n",
    "2. [Tuples](#section2)\n",
    "4. [Homework](#homework)"
   ]
  },
  {
   "cell_type": "markdown",
   "id": "652a03bf-9453-4d0f-8df8-b6630e1d189e",
   "metadata": {},
   "source": [
    "In order to add this file to your local copy, first run:\n",
    "\n",
    "```\n",
    "git fetch release\n",
    "git merge release/main -m \"Merging release\" --allow-unrelated-histories\n",
    "```\n",
    "\n",
    "Then you can start this jupyter notebook by typing something like:\n",
    "\n",
    "```\n",
    "cd lec04\n",
    "jupyter notebook\n",
    "```"
   ]
  },
  {
   "cell_type": "markdown",
   "id": "d07dde63",
   "metadata": {},
   "source": [
    "<a id=\"section1\"></a>"
   ]
  },
  {
   "cell_type": "markdown",
   "id": "69daa20d",
   "metadata": {},
   "source": [
    "<a id=\"section1\"></a>"
   ]
  },
  {
   "cell_type": "markdown",
   "id": "1c5d4fcf",
   "metadata": {},
   "source": [
    "## 1 Dictionaries\n",
    "\n",
    "A `dict` is like a list, except that instead of being indexed by integers, you can use almost anything as the index.\n",
    "\n",
    "### 1.1 Creating Dictionaries, and Accessing Elements in a Dictionary\n",
    "\n",
    "* There is a special syntax to create a `dict`: you put `{` at the beginning, and `}` at the end.\n",
    "* Since the key for each element of a `dict` is up to you, you need to specify it.  This is done by writing a colon between pairs of `key` and `value`.\n",
    "* Once you have created a `dict` in this way, you can use the `key` to access the `value`."
   ]
  },
  {
   "cell_type": "code",
   "execution_count": 4,
   "id": "287bdddc",
   "metadata": {},
   "outputs": [
    {
     "name": "stdout",
     "output_type": "stream",
     "text": [
      "dict1 is {0: 1, 'some key': 35, 4.12: 'a string', True: 0} \n",
      "\n",
      "element dict1[0] is 1 \n",
      "\n",
      "element dict1[\"some key\"] is 35 \n",
      "\n",
      "element dict1[4.12] is a string \n",
      "\n",
      "element dict1[True] is 0 \n",
      "\n",
      "now changing dict1[True] to be False\n",
      "\n",
      "dict1[True] is False \n",
      "\n"
     ]
    }
   ],
   "source": [
    "dict1 = { 0: \"this is value number #0\", \"some key\" : 35, 4.12 : 'a string', True: 0, False: 1 }\n",
    "print('dict1 is', dict1, '\\n')\n",
    "\n",
    "print('element dict1[0] is', dict1[0], '\\n' )\n",
    "print('element dict1[\"some key\"] is', dict1[\"some key\"], '\\n' )\n",
    "print('element dict1[4.12] is', dict1[4.12], '\\n' )\n",
    "print('element dict1[True] is', dict1[True], '\\n' )\n",
    "\n",
    "print('now changing dict1[True] to be False\\n')\n",
    "dict1[True] = False\n",
    "print('dict1[True] is', dict1[True], '\\n')\n"
   ]
  },
  {
   "cell_type": "code",
   "execution_count": 8,
   "id": "8aff21bc-a53e-4a7b-830e-50971f740ca8",
   "metadata": {},
   "outputs": [
    {
     "name": "stdout",
     "output_type": "stream",
     "text": [
      "A[\"key1\"][2] is 6 \n",
      "\n"
     ]
    }
   ],
   "source": [
    "A = { 'key1' : [ 4, 5, 6, 7], 'key2': 5 }\n",
    "\n",
    "print('A[\"key1\"][2] is', A[\"key1\"][2], '\\n')"
   ]
  },
  {
   "cell_type": "code",
   "execution_count": 10,
   "id": "56d59e7c-fbde-4066-b3f0-98200aaf15c1",
   "metadata": {},
   "outputs": [
    {
     "name": "stdout",
     "output_type": "stream",
     "text": [
      "0 1\n",
      "some key 35\n",
      "4.12 a string\n",
      "True False\n"
     ]
    }
   ],
   "source": [
    "for k in dict1: \n",
    "    print(k, dict1[k])"
   ]
  },
  {
   "cell_type": "markdown",
   "id": "710ed6a1",
   "metadata": {},
   "source": [
    "### 1.2 Use Dictionary Methods\n",
    "\n",
    "One of the most useful things to do with a dictionary is to iterate over its elements.  Here are the three iterators:\n",
    "\n",
    "* `.keys()` gives you an iterator over the dictionary's keys\n",
    "* `.values()` gives you an iterator over the dictionary's values\n",
    "* `.items()` gives you an iterator over (key, value) tuples"
   ]
  },
  {
   "cell_type": "code",
   "execution_count": 13,
   "id": "ebe265b3",
   "metadata": {},
   "outputs": [
    {
     "name": "stdout",
     "output_type": "stream",
     "text": [
      "Key number  0  is  0 and its value is 1\n",
      "Key number  1  is  some key and its value is 35\n",
      "Key number  2  is  4.12 and its value is a string\n",
      "Key number  3  is  True and its value is False\n"
     ]
    }
   ],
   "source": [
    "for n, k in enumerate(dict1):\n",
    "    print(\"Key number \", n, \" is \", k, 'and its value is', dict1[k])"
   ]
  },
  {
   "cell_type": "code",
   "execution_count": 15,
   "id": "fb07ca8c",
   "metadata": {},
   "outputs": [
    {
     "name": "stdout",
     "output_type": "stream",
     "text": [
      "Value number  0  is  1\n",
      "Value number  1  is  35\n",
      "Value number  2  is  a string\n",
      "Value number  3  is  False\n",
      "dict1.values() returns dict_values([1, 35, 'a string', False])\n"
     ]
    }
   ],
   "source": [
    "for n, k in enumerate(dict1.values()):\n",
    "    print(\"Value number \", n, \" is \", k)\n",
    "\n",
    "\n",
    "print('dict1.values() returns', dict1.values())"
   ]
  },
  {
   "cell_type": "code",
   "execution_count": 18,
   "id": "53310080",
   "metadata": {},
   "outputs": [
    {
     "name": "stdout",
     "output_type": "stream",
     "text": [
      "Item number  0  is  (0, 1)\n",
      ".    the key is 0\n",
      ".    the value is 1\n",
      "Item number  1  is  ('some key', 35)\n",
      ".    the key is some key\n",
      ".    the value is 35\n",
      "Item number  2  is  (4.12, 'a string')\n",
      ".    the key is 4.12\n",
      ".    the value is a string\n",
      "Item number  3  is  (True, False)\n",
      ".    the key is True\n",
      ".    the value is False\n"
     ]
    }
   ],
   "source": [
    "for n, item in enumerate(dict1.items()):\n",
    "    print(\"Item number \", n, \" is \", item)\n",
    "    print(\".    the key is\", item[0])\n",
    "    print(\".    the value is\", item[1])"
   ]
  },
  {
   "cell_type": "code",
   "execution_count": 19,
   "id": "608fc3cc-e809-4e37-8fa9-577f58f0fd3a",
   "metadata": {},
   "outputs": [
    {
     "name": "stdout",
     "output_type": "stream",
     "text": [
      "{0: 0, 1: 1, 2: 4, 3: 9, 4: 16}\n"
     ]
    }
   ],
   "source": [
    "squares = { x : x**2 for x in range(0,5,1) }\n",
    "\n",
    "print(squares)\n"
   ]
  },
  {
   "cell_type": "markdown",
   "id": "0452afae",
   "metadata": {},
   "source": [
    "<a id=\"section2\"></a>"
   ]
  },
  {
   "cell_type": "markdown",
   "id": "fca1e634",
   "metadata": {},
   "source": [
    "## 2.  Tuples"
   ]
  },
  {
   "cell_type": "markdown",
   "id": "aeb3a1dd",
   "metadata": {},
   "source": [
    "A tuple is just like a list, except that it is not writeable.  You can create it, but once created, it cannot be modified.  For example:\n"
   ]
  },
  {
   "cell_type": "code",
   "execution_count": 20,
   "id": "56e91dfb",
   "metadata": {},
   "outputs": [
    {
     "name": "stdout",
     "output_type": "stream",
     "text": [
      "list1 is ['this', 'is', 'a', 'list', 0, 1, 2, True, False] \n",
      "\n",
      "tuple1 is ('this', 'is', 'a', 'tuple', 0, 1, 2, True, False) \n",
      "\n",
      "Now I will try to modify list1 so its fourth element is \"great list\"\n",
      "now list1 is ['this', 'is', 'a', 'great list', 0, 1, 2, True, False] \n",
      "\n",
      "Now I will try to modify tuple1 so its fourth element is \"great tuple\"\n"
     ]
    },
    {
     "ename": "TypeError",
     "evalue": "'tuple' object does not support item assignment",
     "output_type": "error",
     "traceback": [
      "\u001b[0;31m---------------------------------------------------------------------------\u001b[0m",
      "\u001b[0;31mTypeError\u001b[0m                                 Traceback (most recent call last)",
      "Cell \u001b[0;32mIn[20], line 12\u001b[0m\n\u001b[1;32m      9\u001b[0m \u001b[38;5;28mprint\u001b[39m(\u001b[38;5;124m'\u001b[39m\u001b[38;5;124mnow list1 is\u001b[39m\u001b[38;5;124m'\u001b[39m,list1,\u001b[38;5;124m'\u001b[39m\u001b[38;5;130;01m\\n\u001b[39;00m\u001b[38;5;124m'\u001b[39m)\n\u001b[1;32m     11\u001b[0m \u001b[38;5;28mprint\u001b[39m(\u001b[38;5;124m'\u001b[39m\u001b[38;5;124mNow I will try to modify tuple1 so its fourth element is \u001b[39m\u001b[38;5;124m\"\u001b[39m\u001b[38;5;124mgreat tuple\u001b[39m\u001b[38;5;124m\"\u001b[39m\u001b[38;5;124m'\u001b[39m)\n\u001b[0;32m---> 12\u001b[0m tuple1[\u001b[38;5;241m3\u001b[39m] \u001b[38;5;241m=\u001b[39m \u001b[38;5;124m'\u001b[39m\u001b[38;5;124mgreat tuple\u001b[39m\u001b[38;5;124m'\u001b[39m\n\u001b[1;32m     13\u001b[0m \u001b[38;5;28mprint\u001b[39m(\u001b[38;5;124m'\u001b[39m\u001b[38;5;124mnow tuple1 is\u001b[39m\u001b[38;5;124m'\u001b[39m,tuple1,\u001b[38;5;124m'\u001b[39m\u001b[38;5;130;01m\\n\u001b[39;00m\u001b[38;5;124m'\u001b[39m)\n",
      "\u001b[0;31mTypeError\u001b[0m: 'tuple' object does not support item assignment"
     ]
    }
   ],
   "source": [
    "list1 = [ 'this', 'is', 'a', 'list', 0, 1, 2, True, False ]\n",
    "print('list1 is',list1,'\\n')\n",
    "\n",
    "tuple1 = ( 'this', 'is', 'a', 'tuple', 0, 1, 2, True, False )\n",
    "print('tuple1 is',tuple1,'\\n')\n",
    "\n",
    "print('Now I will try to modify list1 so its fourth element is \"great list\"')\n",
    "list1[3] = 'great list'\n",
    "print('now list1 is',list1,'\\n')\n",
    "\n",
    "print('Now I will try to modify tuple1 so its fourth element is \"great tuple\"')\n",
    "tuple1[3] = 'great tuple'\n",
    "print('now tuple1 is',tuple1,'\\n')\n"
   ]
  },
  {
   "cell_type": "markdown",
   "id": "20a5a05f",
   "metadata": {},
   "source": [
    "### 2.2 Why?\n",
    "\n",
    "The reason that tuples are unchangeable:  So that they can be used as keys for dictionaries.\n",
    "\n",
    "For example, suppose you want to store all of the people who have birthdays on January 10.  You can't create a dictionary `birthdays` with the key `[1,10]`, because `[1,10]` is modifiable -- anybody could modify it at any time!!"
   ]
  },
  {
   "cell_type": "code",
   "execution_count": 21,
   "id": "ef501a8d",
   "metadata": {},
   "outputs": [
    {
     "ename": "TypeError",
     "evalue": "unhashable type: 'list'",
     "output_type": "error",
     "traceback": [
      "\u001b[0;31m---------------------------------------------------------------------------\u001b[0m",
      "\u001b[0;31mTypeError\u001b[0m                                 Traceback (most recent call last)",
      "Cell \u001b[0;32mIn[21], line 3\u001b[0m\n\u001b[1;32m      1\u001b[0m birthdays \u001b[38;5;241m=\u001b[39m {}\n\u001b[0;32m----> 3\u001b[0m birthdays[[\u001b[38;5;241m1\u001b[39m,\u001b[38;5;241m10\u001b[39m]] \u001b[38;5;241m=\u001b[39m [ \u001b[38;5;124m'\u001b[39m\u001b[38;5;124mfred\u001b[39m\u001b[38;5;124m'\u001b[39m, \u001b[38;5;124m'\u001b[39m\u001b[38;5;124manna\u001b[39m\u001b[38;5;124m'\u001b[39m]\n",
      "\u001b[0;31mTypeError\u001b[0m: unhashable type: 'list'"
     ]
    }
   ],
   "source": [
    "birthdays = {}\n",
    "\n",
    "birthdays[[1,10]] = [ 'fred', 'anna']"
   ]
  },
  {
   "cell_type": "markdown",
   "id": "b3ee435a",
   "metadata": {},
   "source": [
    "However, since the tuple `(1,10)` is not modifiable, it can be used as a key for a dictionary:\n"
   ]
  },
  {
   "cell_type": "code",
   "execution_count": 22,
   "id": "bede41c1",
   "metadata": {},
   "outputs": [
    {
     "name": "stdout",
     "output_type": "stream",
     "text": [
      "the birthdays dictionary is now {(1, 10): ['fred', 'anna']}\n"
     ]
    }
   ],
   "source": [
    "birthdays = {}\n",
    "\n",
    "birthdays[(1,10)] = [ 'fred', 'anna']\n",
    "\n",
    "print('the birthdays dictionary is now', birthdays)"
   ]
  },
  {
   "cell_type": "markdown",
   "id": "a3b1271e",
   "metadata": {},
   "source": [
    "### 2.3 Other facts about tuples\n",
    "\n",
    "Other than that, tuples act just like lists.  They can be added or multiplied just like lists:"
   ]
  },
  {
   "cell_type": "code",
   "execution_count": 23,
   "id": "d031942d",
   "metadata": {},
   "outputs": [
    {
     "name": "stdout",
     "output_type": "stream",
     "text": [
      "['hello', 'world', 'a', 'b', 'c']\n",
      "('hello', 'world', 'a', 'b', 'c')\n",
      "['a', 'b', 'c', 'a', 'b', 'c', 'a', 'b', 'c', 'a', 'b', 'c']\n",
      "('a', 'b', 'c', 'a', 'b', 'c')\n"
     ]
    }
   ],
   "source": [
    "list1 = ['hello', 'world']\n",
    "tuple1 = ('hello', 'world')\n",
    "\n",
    "list3 = ['a', 'b', 'c']\n",
    "tuple3 = ('a', 'b', 'c')\n",
    "\n",
    "print(list1+list3)\n",
    "print(tuple1 + tuple3)\n",
    "print(list3*4)\n",
    "print(tuple3*2)"
   ]
  },
  {
   "cell_type": "markdown",
   "id": "8ad9ad00",
   "metadata": {},
   "source": [
    "<a id=\"homework\"></a>"
   ]
  },
  {
   "cell_type": "markdown",
   "id": "4e6b32d4",
   "metadata": {},
   "source": [
    "## Homework 4"
   ]
  },
  {
   "cell_type": "markdown",
   "id": "7a9eeaa5",
   "metadata": {},
   "source": [
    "Homework will be graded on Github.com.\n",
    "\n",
    "In this directory, there is a file called `homework4.py`.  It contains 1 function that you should complete.  "
   ]
  },
  {
   "cell_type": "code",
   "execution_count": 28,
   "id": "bceeb748",
   "metadata": {},
   "outputs": [
    {
     "name": "stdout",
     "output_type": "stream",
     "text": [
      "Help on module homework4:\n",
      "\n",
      "NAME\n",
      "    homework4\n",
      "\n",
      "FUNCTIONS\n",
      "    next_birthday(date, birthdays)\n",
      "        Find the next birthday after the given date.\n",
      "\n",
      "        @param:\n",
      "        date - a tuple of two integers specifying (month, day)\n",
      "        birthdays - a dict mapping from date tuples to lists of names, for example,\n",
      "          birthdays[(1,10)] = list of all people with birthdays on January 10.\n",
      "\n",
      "        @return:\n",
      "        birthday - the next day, after given date, on which somebody has a birthday\n",
      "        list_of_names - list of all people with birthdays on that date\n",
      "\n",
      "FILE\n",
      "    /Users/jhasegaw/kcgi/intro_speech_understanding/lec04/homework4.py\n",
      "\n",
      "\n"
     ]
    }
   ],
   "source": [
    "import importlib, homework4\n",
    "importlib.reload(homework4)\n",
    "help(homework4)"
   ]
  },
  {
   "cell_type": "markdown",
   "id": "ab7214ef",
   "metadata": {},
   "source": [
    "Create a function called `next_birthday`.  Your function should do what the docstring says it should do.\n",
    "\n"
   ]
  },
  {
   "cell_type": "code",
   "execution_count": 35,
   "id": "79abae8f",
   "metadata": {},
   "outputs": [
    {
     "name": "stdout",
     "output_type": "stream",
     "text": [
      "Our birthdays dictionary is: {(1, 10): ['anna', 'bob'], (2, 14): ['valentine'], (3, 3): ['mary'], (9, 19): ['seth', 'fred']} \n",
      "\n",
      "The next birthday after  (12, 16)  is (1, 10) \n",
      "\n",
      "The people with birthdays on that day are ['anna', 'bob'] \n",
      "\n"
     ]
    }
   ],
   "source": [
    "import homework4, importlib\n",
    "importlib.reload(homework4)\n",
    "\n",
    "birthdays = {\n",
    "    (1,10) : ['anna', 'bob' ],\n",
    "    (2,14) : ['valentine'],\n",
    "    (3,3) : ['mary'],\n",
    "    (9,19) : ['seth', 'fred' ]\n",
    "}\n",
    "print('Our birthdays dictionary is:', birthdays,'\\n')\n",
    "\n",
    "date = (12,16)\n",
    "birthday, list_of_names = homework4.next_birthday(date, birthdays)\n",
    "print('The next birthday after ',date,' is', birthday,'\\n')\n",
    "print('The people with birthdays on that day are',list_of_names,'\\n')"
   ]
  },
  {
   "cell_type": "markdown",
   "id": "8bcf7392",
   "metadata": {},
   "source": [
    "### Receiving your grade\n",
    "\n",
    "In order to receive a grade for your homework, you need to:\n",
    "\n",
    "1. Run the following code block on your machine.  The result may list some errors, and then in the very last line, it will show a score.  That score (between 0% and 100%) is the grade you have earned so far.  If you want to earn a higher grade, please continue editing `homework3.py`, and then run this code block again.\n",
    "1. When you are happy with your score (e.g., when it reaches 100%), use `GitHub Desktop` to commit and push your changes. Make sure that your github repo on github.com shows your changes.  Paste that URL to your Canvas account."
   ]
  },
  {
   "cell_type": "code",
   "execution_count": 36,
   "id": "f92915b6",
   "metadata": {},
   "outputs": [
    {
     "name": "stderr",
     "output_type": "stream",
     "text": [
      ".\n",
      "----------------------------------------------------------------------\n",
      "Ran 1 test in 0.001s\n",
      "\n",
      "OK\n",
      ".\n",
      "----------------------------------------------------------------------\n",
      "Ran 1 test in 0.001s\n",
      "\n",
      "OK\n"
     ]
    },
    {
     "name": "stdout",
     "output_type": "stream",
     "text": [
      "1 successes out of 1 tests run\n",
      "Score: 100%\n",
      "1 successes out of 1 tests run\n",
      "Score: 100%\n"
     ]
    },
    {
     "data": {
      "text/plain": [
       "<module 'grade' from '/Users/jhasegaw/kcgi/intro_speech_understanding/lec04/grade.py'>"
      ]
     },
     "execution_count": 36,
     "metadata": {},
     "output_type": "execute_result"
    }
   ],
   "source": [
    "import importlib, grade\n",
    "importlib.reload(grade)"
   ]
  },
  {
   "cell_type": "code",
   "execution_count": null,
   "id": "a4b0f154",
   "metadata": {},
   "outputs": [],
   "source": []
  }
 ],
 "metadata": {
  "kernelspec": {
   "display_name": "Python 3 (ipykernel)",
   "language": "python",
   "name": "python3"
  },
  "language_info": {
   "codemirror_mode": {
    "name": "ipython",
    "version": 3
   },
   "file_extension": ".py",
   "mimetype": "text/x-python",
   "name": "python",
   "nbconvert_exporter": "python",
   "pygments_lexer": "ipython3",
   "version": "3.12.4"
  }
 },
 "nbformat": 4,
 "nbformat_minor": 5
}
