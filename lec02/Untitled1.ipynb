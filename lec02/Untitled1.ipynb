{
 "cells": [
  {
   "cell_type": "code",
   "execution_count": 1,
   "id": "6f283702-65ff-4228-89c2-6fb5aea25fba",
   "metadata": {},
   "outputs": [
    {
     "data": {
      "text/plain": [
       "Type help() for interactive help, or help(object) for help about object."
      ]
     },
     "execution_count": 1,
     "metadata": {},
     "output_type": "execute_result"
    }
   ],
   "source": [
    "help"
   ]
  },
  {
   "cell_type": "code",
   "execution_count": 2,
   "id": "6fe96f91-667f-46cc-a308-cc0ff457249e",
   "metadata": {},
   "outputs": [
    {
     "name": "stdout",
     "output_type": "stream",
     "text": [
      "Welcome to Python 3.12's help utility! If this is your first time using\n",
      "Python, you should definitely check out the tutorial at\n",
      "https://docs.python.org/3.12/tutorial/.\n",
      "\n",
      "Enter the name of any module, keyword, or topic to get help on writing\n",
      "Python programs and using Python modules.  To get a list of available\n",
      "modules, keywords, symbols, or topics, enter \"modules\", \"keywords\",\n",
      "\"symbols\", or \"topics\".\n",
      "\n",
      "Each module also comes with a one-line summary of what it does; to list\n",
      "the modules whose name or summary contain a given string such as \"spam\",\n",
      "enter \"modules spam\".\n",
      "\n",
      "To quit this help utility and return to the interpreter,\n",
      "enter \"q\" or \"quit\".\n",
      "\n"
     ]
    },
    {
     "name": "stdin",
     "output_type": "stream",
     "text": [
      "help>  q\n"
     ]
    },
    {
     "name": "stdout",
     "output_type": "stream",
     "text": [
      "\n",
      "You are now leaving help and returning to the Python interpreter.\n",
      "If you want to ask for help on a particular object directly from the\n",
      "interpreter, you can type \"help(object)\".  Executing \"help('string')\"\n",
      "has the same effect as typing a particular string at the help> prompt.\n"
     ]
    }
   ],
   "source": [
    "help()\n"
   ]
  },
  {
   "cell_type": "code",
   "execution_count": 3,
   "id": "f33e33a6-92e4-4e08-ba70-8295e0083706",
   "metadata": {},
   "outputs": [],
   "source": [
    "a = \"hello\"\n"
   ]
  },
  {
   "cell_type": "code",
   "execution_count": 7,
   "id": "ce6b92eb-1a04-4d2c-add1-eed46e874a2c",
   "metadata": {},
   "outputs": [],
   "source": [
    "b = 'hi there'"
   ]
  },
  {
   "cell_type": "code",
   "execution_count": 8,
   "id": "37660dda-f6f8-47ae-a305-7d4890dfbf6c",
   "metadata": {},
   "outputs": [
    {
     "name": "stdout",
     "output_type": "stream",
     "text": [
      "hello\n",
      "hi there\n"
     ]
    }
   ],
   "source": [
    "print(a)\n",
    "print(b)\n"
   ]
  },
  {
   "cell_type": "code",
   "execution_count": 15,
   "id": "2498a258-d200-422b-937c-aa958ae597d5",
   "metadata": {},
   "outputs": [
    {
     "name": "stdout",
     "output_type": "stream",
     "text": [
      "<class 'str'>\n"
     ]
    },
    {
     "data": {
      "text/plain": [
       "True"
      ]
     },
     "execution_count": 15,
     "metadata": {},
     "output_type": "execute_result"
    }
   ],
   "source": [
    "print(type(a))\n",
    "isinstance(a, str)"
   ]
  },
  {
   "cell_type": "code",
   "execution_count": 16,
   "id": "27470d53-3d1b-4f2f-9cc4-7cde6810c037",
   "metadata": {},
   "outputs": [
    {
     "name": "stdout",
     "output_type": "stream",
     "text": [
      "hello hi there\n"
     ]
    }
   ],
   "source": [
    "print(a,b)"
   ]
  },
  {
   "cell_type": "code",
   "execution_count": 17,
   "id": "6b58c75b-5957-441e-b874-5de8ca58602c",
   "metadata": {},
   "outputs": [
    {
     "name": "stdout",
     "output_type": "stream",
     "text": [
      "hellohi there\n"
     ]
    }
   ],
   "source": [
    "print(a+b)"
   ]
  },
  {
   "cell_type": "code",
   "execution_count": 20,
   "id": "ed33ce63-9f85-4be3-80e9-2dc1e2831563",
   "metadata": {},
   "outputs": [
    {
     "name": "stdout",
     "output_type": "stream",
     "text": [
      "hello hello hello hello hello hello hello hello hello hello hello hello hello hello hello hello hello hello hello hello hello hello hello \n"
     ]
    }
   ],
   "source": [
    "print((a+\" \")*23)"
   ]
  },
  {
   "cell_type": "code",
   "execution_count": 21,
   "id": "4ddce1ab-c82a-4ffd-b0fd-00dc756c2c48",
   "metadata": {},
   "outputs": [
    {
     "name": "stdout",
     "output_type": "stream",
     "text": [
      "x is 2\n",
      "the type of x is <class 'int'>\n"
     ]
    }
   ],
   "source": [
    "x = 2\n",
    "print('x is',x)\n",
    "print('the type of x is',type(x))"
   ]
  },
  {
   "cell_type": "code",
   "execution_count": 23,
   "id": "04cf9cef-f003-4384-8ea6-72c5985428be",
   "metadata": {},
   "outputs": [
    {
     "data": {
      "text/plain": [
       "False"
      ]
     },
     "execution_count": 23,
     "metadata": {},
     "output_type": "execute_result"
    }
   ],
   "source": [
    "isinstance(x,float)"
   ]
  },
  {
   "cell_type": "code",
   "execution_count": 24,
   "id": "5998b2e8-8060-402d-8cc5-4bf709a772f8",
   "metadata": {},
   "outputs": [
    {
     "name": "stdout",
     "output_type": "stream",
     "text": [
      "z is 3.0\n",
      "the type of z is <class 'float'>\n"
     ]
    }
   ],
   "source": [
    "z = 3.\n",
    "print('z is',z)\n",
    "print('the type of z is',type(z))"
   ]
  },
  {
   "cell_type": "code",
   "execution_count": 26,
   "id": "a9558d00-6e23-4985-a7e4-5670fec546f8",
   "metadata": {},
   "outputs": [
    {
     "data": {
      "text/plain": [
       "True"
      ]
     },
     "execution_count": 26,
     "metadata": {},
     "output_type": "execute_result"
    }
   ],
   "source": [
    "isinstance(z,float)"
   ]
  },
  {
   "cell_type": "code",
   "execution_count": 27,
   "id": "67ec0dfc-e79f-40f9-ab48-9a015d5ee3db",
   "metadata": {},
   "outputs": [
    {
     "name": "stdout",
     "output_type": "stream",
     "text": [
      "y is 1.12\n",
      "the type of y is <class 'float'>\n"
     ]
    }
   ],
   "source": [
    "y = 1.12\n",
    "print('y is',y)\n",
    "print('the type of y is',type(y))"
   ]
  },
  {
   "cell_type": "code",
   "execution_count": 29,
   "id": "c87c637b-9eab-4eb8-a1e2-0320046d993c",
   "metadata": {},
   "outputs": [
    {
     "data": {
      "text/plain": [
       "True"
      ]
     },
     "execution_count": 29,
     "metadata": {},
     "output_type": "execute_result"
    }
   ],
   "source": [
    "isinstance(y, float)\n"
   ]
  },
  {
   "cell_type": "code",
   "execution_count": 34,
   "id": "797df5a5-5720-4cb8-b5fc-a08fa5e6ae04",
   "metadata": {},
   "outputs": [
    {
     "data": {
      "text/plain": [
       "8.0"
      ]
     },
     "execution_count": 34,
     "metadata": {},
     "output_type": "execute_result"
    }
   ],
   "source": [
    "x**z"
   ]
  },
  {
   "cell_type": "code",
   "execution_count": 35,
   "id": "3a5bdb74-4dc1-47cf-b38a-64b8776b9577",
   "metadata": {},
   "outputs": [
    {
     "data": {
      "text/plain": [
       "200.0"
      ]
     },
     "execution_count": 35,
     "metadata": {},
     "output_type": "execute_result"
    }
   ],
   "source": [
    "0.05 * 4000"
   ]
  },
  {
   "cell_type": "code",
   "execution_count": 45,
   "id": "a1490ec0-e488-441d-a6cb-3f02399f727f",
   "metadata": {},
   "outputs": [],
   "source": [
    "def doubleme(x):\n",
    "    print('running doubleme...')\n",
    "    return 2*x"
   ]
  },
  {
   "cell_type": "code",
   "execution_count": 49,
   "id": "4d5e893e-1f94-4176-8ae3-96b3830b50b4",
   "metadata": {},
   "outputs": [
    {
     "name": "stdout",
     "output_type": "stream",
     "text": [
      "running doubleme...\n",
      "now y is  50\n"
     ]
    }
   ],
   "source": [
    "y = doubleme(25)\n",
    "print('now y is ',y)"
   ]
  },
  {
   "cell_type": "code",
   "execution_count": 50,
   "id": "453d8bd6-31d4-4db6-8575-f7d90547bdda",
   "metadata": {},
   "outputs": [
    {
     "name": "stdout",
     "output_type": "stream",
     "text": [
      "Help on module homework2:\n",
      "\n",
      "NAME\n",
      "    homework2\n",
      "\n",
      "DESCRIPTION\n",
      "    This homework defines one method, called \"arithmetic\".\n",
      "    that method, type `help homework2.arithmetic`.\n",
      "\n",
      "FUNCTIONS\n",
      "    arithmetic(x, y)\n",
      "        Modify this code so that it performs one of four possible functions,\n",
      "        as specified in the following table:\n",
      "\n",
      "                            isinstance(x,str)  isinstance(x,float)\n",
      "        isinstance(y,str)   return x+y         return str(x)+y\n",
      "        isinstance(y,float) return x*int(y)    return x*y\n",
      "\n",
      "FILE\n",
      "    /Users/jhasegaw/kcgi/intro_speech_understanding/lec02/homework2.py\n",
      "\n",
      "\n"
     ]
    }
   ],
   "source": [
    "import homework2\n",
    "help(homework2)"
   ]
  },
  {
   "cell_type": "code",
   "execution_count": 52,
   "id": "a74480b0-db86-4149-a108-e0e830c3fab5",
   "metadata": {},
   "outputs": [
    {
     "name": "stdout",
     "output_type": "stream",
     "text": [
      "now z is 0\n"
     ]
    }
   ],
   "source": [
    "z = homework2.arithmetic( \"foo\", \"bar\" )\n",
    "print('now z is',z)"
   ]
  },
  {
   "cell_type": "code",
   "execution_count": 60,
   "id": "09cf39f9-f568-4b40-969a-e95f8b120d1c",
   "metadata": {},
   "outputs": [
    {
     "data": {
      "text/plain": [
       "<module 'homework2' from '/Users/jhasegaw/kcgi/intro_speech_understanding/lec02/homework2.py'>"
      ]
     },
     "execution_count": 60,
     "metadata": {},
     "output_type": "execute_result"
    }
   ],
   "source": [
    "import importlib\n",
    "importlib.reload(homework2)"
   ]
  },
  {
   "cell_type": "code",
   "execution_count": 64,
   "id": "686d0c08-ddeb-42f5-8911-0b33ec5aac8e",
   "metadata": {},
   "outputs": [
    {
     "name": "stdout",
     "output_type": "stream",
     "text": [
      "6.0\n"
     ]
    }
   ],
   "source": [
    "print(homework2.arithmetic(3.0, 2.0))"
   ]
  },
  {
   "cell_type": "code",
   "execution_count": 65,
   "id": "2d120fbe-6c0a-4ad5-8ef0-c74a202e3de9",
   "metadata": {},
   "outputs": [
    {
     "name": "stderr",
     "output_type": "stream",
     "text": [
      "....\n",
      "----------------------------------------------------------------------\n",
      "Ran 4 tests in 0.007s\n",
      "\n",
      "OK\n"
     ]
    },
    {
     "name": "stdout",
     "output_type": "stream",
     "text": [
      "4 successes out of 4 tests run\n",
      "Score: 100%\n"
     ]
    },
    {
     "data": {
      "text/plain": [
       "<module 'grade' from '/Users/jhasegaw/kcgi/intro_speech_understanding/lec02/grade.py'>"
      ]
     },
     "execution_count": 65,
     "metadata": {},
     "output_type": "execute_result"
    }
   ],
   "source": [
    "importlib.reload(grade)"
   ]
  },
  {
   "cell_type": "code",
   "execution_count": null,
   "id": "0ee1fcdd-f94f-4286-b9ff-cc433ce6d0a2",
   "metadata": {},
   "outputs": [],
   "source": []
  }
 ],
 "metadata": {
  "kernelspec": {
   "display_name": "Python 3 (ipykernel)",
   "language": "python",
   "name": "python3"
  },
  "language_info": {
   "codemirror_mode": {
    "name": "ipython",
    "version": 3
   },
   "file_extension": ".py",
   "mimetype": "text/x-python",
   "name": "python",
   "nbconvert_exporter": "python",
   "pygments_lexer": "ipython3",
   "version": "3.12.4"
  }
 },
 "nbformat": 4,
 "nbformat_minor": 5
}
